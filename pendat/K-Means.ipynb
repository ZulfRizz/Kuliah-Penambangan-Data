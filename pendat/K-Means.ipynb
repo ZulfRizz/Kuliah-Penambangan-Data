{
 "cells": [
  {
   "cell_type": "markdown",
   "id": "0da00388",
   "metadata": {},
   "source": [
    "# K-Means Clustering"
   ]
  },
  {
   "cell_type": "markdown",
   "id": "6344317a",
   "metadata": {},
   "source": [
    "## Pengertian K-Means\n",
    "\n",
    "**K-Means** adalah salah satu algoritma unsupervised learning (pembelajaran tanpa pengawasan) yang digunakan untuk **pengelompokan data (clustering)**. Tujuannya adalah membagi data ke dalam **K kelompok (cluster)** berdasarkan kemiripan karakteristiknya, di mana **K** merupakan jumlah cluster yang ditentukan sebelumnya.\n",
    "\n",
    "---"
   ]
  },
  {
   "cell_type": "markdown",
   "id": "8b6ad4d1",
   "metadata": {},
   "source": [
    "## Cara Kerja K-Means:  \n",
    "\n",
    "1. **Menentukan Jumlah Cluster (K):**  \n",
    "    Tentukan jumlah cluster yang diinginkan sesuai dengan kebutuhan analisis.  \n",
    "\n",
    "2. **Inisialisasi Centroid:**  \n",
    "    Pilih secara acak K titik awal sebagai centroid (pusat cluster).  \n",
    "\n",
    "3. **Mengelompokkan Data ke Centroid Terdekat:**  \n",
    "    - Hitung jarak setiap data ke masing-masing centroid (biasanya menggunakan jarak Euclidean).  \n",
    "    - Kelompokkan data ke cluster dengan centroid terdekat.  \n",
    "\n",
    "4. **Memperbarui Centroid:**  \n",
    "    Hitung rata-rata posisi dari semua data dalam setiap cluster, lalu jadikan hasilnya sebagai centroid baru.  \n",
    "\n",
    "5. **Iterasi:**  \n",
    "    Ulangi langkah 3 dan 4 hingga salah satu kondisi berikut tercapai:  \n",
    "    - Centroid tidak mengalami perubahan signifikan.  \n",
    "    - Jumlah iterasi maksimum telah tercapai.  \n",
    "\n",
    "---\n",
    "\n",
    "## Keunggulan dan Kelemahan\n",
    "\n",
    "**Keunggulan K-Means:**  \n",
    "- Cepat dan efisien untuk data besar.  \n",
    "- Mudah diimplementasikan.  \n",
    "- Cocok untuk data numerik.  \n",
    "\n",
    "**Kelemahan K-Means:**\n",
    "- Harus menentukan K terlebih dahulu (bisa menggunakan Elbow Method atau Silhouette Analysis).  \n",
    "- Sensitif terhadap centroid awal (solusi: K-Means++).  \n",
    "- Tidak cocok untuk data kategorikal atau cluster yang tidak berbentuk bulat (non-globular).  \n",
    "\n",
    "---\n",
    "\n",
    "## Contoh Penerapan:\n",
    "- Segmentasi pelanggan berdasarkan perilaku belanja.  \n",
    "- Pengelompokan dokumen berdasarkan topik.  \n",
    "- Analisis citra (segmentasi warna).  \n"
   ]
  },
  {
   "cell_type": "code",
   "execution_count": 1,
   "id": "300b49c1",
   "metadata": {},
   "outputs": [
    {
     "data": {
      "text/html": [
       "<div>\n",
       "<style scoped>\n",
       "    .dataframe tbody tr th:only-of-type {\n",
       "        vertical-align: middle;\n",
       "    }\n",
       "\n",
       "    .dataframe tbody tr th {\n",
       "        vertical-align: top;\n",
       "    }\n",
       "\n",
       "    .dataframe thead th {\n",
       "        text-align: right;\n",
       "    }\n",
       "</style>\n",
       "<table border=\"1\" class=\"dataframe\">\n",
       "  <thead>\n",
       "    <tr style=\"text-align: right;\">\n",
       "      <th></th>\n",
       "      <th>id</th>\n",
       "      <th>class</th>\n",
       "      <th>petal length</th>\n",
       "      <th>petal width</th>\n",
       "      <th>sepal length</th>\n",
       "      <th>sepal width</th>\n",
       "    </tr>\n",
       "  </thead>\n",
       "  <tbody>\n",
       "    <tr>\n",
       "      <th>0</th>\n",
       "      <td>1</td>\n",
       "      <td>Iris-setosa</td>\n",
       "      <td>1.4</td>\n",
       "      <td>0.2</td>\n",
       "      <td>5.1</td>\n",
       "      <td>3.5</td>\n",
       "    </tr>\n",
       "    <tr>\n",
       "      <th>1</th>\n",
       "      <td>2</td>\n",
       "      <td>Iris-setosa</td>\n",
       "      <td>1.4</td>\n",
       "      <td>0.2</td>\n",
       "      <td>4.9</td>\n",
       "      <td>3.0</td>\n",
       "    </tr>\n",
       "    <tr>\n",
       "      <th>2</th>\n",
       "      <td>3</td>\n",
       "      <td>Iris-setosa</td>\n",
       "      <td>1.3</td>\n",
       "      <td>0.2</td>\n",
       "      <td>4.7</td>\n",
       "      <td>3.2</td>\n",
       "    </tr>\n",
       "    <tr>\n",
       "      <th>3</th>\n",
       "      <td>4</td>\n",
       "      <td>Iris-setosa</td>\n",
       "      <td>1.5</td>\n",
       "      <td>0.2</td>\n",
       "      <td>4.6</td>\n",
       "      <td>3.1</td>\n",
       "    </tr>\n",
       "    <tr>\n",
       "      <th>4</th>\n",
       "      <td>5</td>\n",
       "      <td>Iris-setosa</td>\n",
       "      <td>1.4</td>\n",
       "      <td>0.2</td>\n",
       "      <td>5.0</td>\n",
       "      <td>3.6</td>\n",
       "    </tr>\n",
       "  </tbody>\n",
       "</table>\n",
       "</div>"
      ],
      "text/plain": [
       "   id        class  petal length  petal width  sepal length  sepal width\n",
       "0   1  Iris-setosa           1.4          0.2           5.1          3.5\n",
       "1   2  Iris-setosa           1.4          0.2           4.9          3.0\n",
       "2   3  Iris-setosa           1.3          0.2           4.7          3.2\n",
       "3   4  Iris-setosa           1.5          0.2           4.6          3.1\n",
       "4   5  Iris-setosa           1.4          0.2           5.0          3.6"
      ]
     },
     "execution_count": 1,
     "metadata": {},
     "output_type": "execute_result"
    }
   ],
   "source": [
    "import pandas as pd\n",
    "\n",
    "df = pd.read_csv(\"./property/default_iris_combined.csv\")\n",
    "df.head()"
   ]
  },
  {
   "cell_type": "markdown",
   "id": "a91ca125",
   "metadata": {},
   "source": []
  }
 ],
 "metadata": {
  "kernelspec": {
   "display_name": ".venv",
   "language": "python",
   "name": "python3"
  },
  "language_info": {
   "codemirror_mode": {
    "name": "ipython",
    "version": 3
   },
   "file_extension": ".py",
   "mimetype": "text/x-python",
   "name": "python",
   "nbconvert_exporter": "python",
   "pygments_lexer": "ipython3",
   "version": "3.13.2"
  }
 },
 "nbformat": 4,
 "nbformat_minor": 5
}
