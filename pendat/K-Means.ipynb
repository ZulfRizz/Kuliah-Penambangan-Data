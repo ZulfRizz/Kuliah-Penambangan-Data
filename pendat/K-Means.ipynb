{
 "cells": [
  {
   "cell_type": "markdown",
   "id": "0da00388",
   "metadata": {},
   "source": [
    "# K-Means Clustering"
   ]
  },
  {
   "cell_type": "markdown",
   "id": "6344317a",
   "metadata": {},
   "source": [
    "## Pengertian K-Means\n",
    "\n",
    "**K-Means** adalah salah satu algoritma unsupervised learning (pembelajaran tanpa pengawasan) yang digunakan untuk **pengelompokan data (clustering)**. Tujuannya adalah membagi data ke dalam **K kelompok (cluster)** berdasarkan kemiripan karakteristiknya, di mana **K** merupakan jumlah cluster yang ditentukan sebelumnya.\n",
    "\n",
    "---"
   ]
  },
  {
   "cell_type": "markdown",
   "id": "8b6ad4d1",
   "metadata": {},
   "source": [
    "## Cara Kerja K-Means:  \n",
    "\n",
    "1. **Menentukan Jumlah Cluster (K):**  \n",
    "    Tentukan jumlah cluster yang diinginkan sesuai dengan kebutuhan analisis.  \n",
    "\n",
    "2. **Inisialisasi Centroid:**  \n",
    "    Pilih secara acak K titik awal sebagai centroid (pusat cluster).  \n",
    "\n",
    "3. **Mengelompokkan Data ke Centroid Terdekat:**  \n",
    "    - Hitung jarak setiap data ke masing-masing centroid (biasanya menggunakan jarak Euclidean).  \n",
    "    - Kelompokkan data ke cluster dengan centroid terdekat.  \n",
    "\n",
    "4. **Memperbarui Centroid:**  \n",
    "    Hitung rata-rata posisi dari semua data dalam setiap cluster, lalu jadikan hasilnya sebagai centroid baru.  \n",
    "\n",
    "5. **Iterasi:**  \n",
    "    Ulangi langkah 3 dan 4 hingga salah satu kondisi berikut tercapai:  \n",
    "    - Centroid tidak mengalami perubahan signifikan.  \n",
    "    - Jumlah iterasi maksimum telah tercapai.  \n",
    "\n",
    "---\n",
    "\n",
    "## Keunggulan dan Kelemahan\n",
    "\n",
    "**Keunggulan K-Means:**  \n",
    "- Cepat dan efisien untuk data besar.  \n",
    "- Mudah diimplementasikan.  \n",
    "- Cocok untuk data numerik.  \n",
    "\n",
    "**Kelemahan K-Means:**\n",
    "- Harus menentukan K terlebih dahulu (bisa menggunakan Elbow Method atau Silhouette Analysis).  \n",
    "- Sensitif terhadap centroid awal (solusi: K-Means++).  \n",
    "- Tidak cocok untuk data kategorikal atau cluster yang tidak berbentuk bulat (non-globular).  \n",
    "\n",
    "---\n",
    "\n",
    "## Contoh Penerapan:\n",
    "- Segmentasi pelanggan berdasarkan perilaku belanja.  \n",
    "- Pengelompokan dokumen berdasarkan topik.  \n",
    "- Analisis citra (segmentasi warna).  \n"
   ]
  },
  {
   "cell_type": "code",
   "execution_count": null,
   "id": "300b49c1",
   "metadata": {},
   "outputs": [],
   "source": []
  },
  {
   "cell_type": "markdown",
   "id": "a91ca125",
   "metadata": {},
   "source": []
  }
 ],
 "metadata": {
  "kernelspec": {
   "display_name": ".venv",
   "language": "python",
   "name": "python3"
  },
  "language_info": {
   "name": "python",
   "version": "3.13.2"
  }
 },
 "nbformat": 4,
 "nbformat_minor": 5
}
